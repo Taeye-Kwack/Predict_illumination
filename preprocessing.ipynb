{
  "nbformat": 4,
  "nbformat_minor": 5,
  "metadata": {
    "kernelspec": {
      "display_name": "Python 3",
      "language": "python",
      "name": "python3"
    },
    "language_info": {
      "codemirror_mode": {
        "name": "ipython",
        "version": 3
      },
      "file_extension": ".py",
      "mimetype": "text/x-python",
      "name": "python",
      "nbconvert_exporter": "python",
      "pygments_lexer": "ipython3",
      "version": "3.8.8"
    },
    "colab": {
      "name": "preprocessing.ipynb",
      "provenance": [],
      "include_colab_link": true
    }
  },
  "cells": [
    {
      "cell_type": "markdown",
      "metadata": {
        "id": "view-in-github",
        "colab_type": "text"
      },
      "source": [
        "<a href=\"https://colab.research.google.com/github/Taeye-Kwack/Predict_illumination/blob/main/preprocessing.ipynb\" target=\"_parent\"><img src=\"https://colab.research.google.com/assets/colab-badge.svg\" alt=\"Open In Colab\"/></a>"
      ]
    },
    {
      "cell_type": "code",
      "metadata": {
        "id": "635b2764"
      },
      "source": [
        "import numpy as np\n",
        "import glob\n",
        "import matplotlib.pyplot as plt\n",
        "from tqdm import tqdm\n",
        "import pandas as pd\n",
        "from pysolar.solar import *\n",
        "import datetime"
      ],
      "id": "635b2764",
      "execution_count": null,
      "outputs": []
    },
    {
      "cell_type": "code",
      "metadata": {
        "id": "b002c913"
      },
      "source": [
        "#illuminance\n",
        "dirpath = '/home/yony/script/ML/FinalProject/rawdata/'\n",
        "filelist = np.sort(glob.glob(dirpath + 'illum/alltxt/*.txt'))"
      ],
      "id": "b002c913",
      "execution_count": null,
      "outputs": []
    },
    {
      "cell_type": "code",
      "metadata": {
        "id": "3a8f6ec7"
      },
      "source": [
        "alldf = pd.DataFrame()\n",
        "for ff in range(len(filelist)):\n",
        "    print(filelist[ff])\n",
        "    data = np.genfromtxt(filelist[ff],skip_header=1, usecols=(1,2,3),names = ('light','unit','time'),dtype = 'S8,S8,S18')\n",
        "    df = pd.DataFrame(data)\n",
        "    df = df.stack().str.decode('utf-8').unstack()\n",
        "\n",
        "    #light value\n",
        "    for i in range(len(df)):\n",
        "        if 'Lux' in df['unit'][i]: #only when the unit is in Lux\n",
        "            if 'K' in df['light'][i]:\n",
        "                value = float(df['light'][i].split('K')[0])*1000\n",
        "                df['light'][i] = value\n",
        "                #print(value)\n",
        "            elif 'OL' in df['light'][i]:\n",
        "                df['light'][i] = np.nan\n",
        "            else: \n",
        "                value = float(df['light'][i])\n",
        "                df['light'][i] = value\n",
        "                #print(value)\n",
        "        else:\n",
        "            df['light'][i] = np.nan\n",
        "\n",
        "    df['light'] = df['light'].astype(float)\n",
        "\n",
        "    #time\n",
        "    dt = pd.to_datetime(df['time'].values)\n",
        "    df['time'] = dt\n",
        "    df = df.set_index(dt)\n",
        "\n",
        "    #5min average\n",
        "    df_5min = df['light'].resample('5T').mean()\n",
        "    df_5min = pd.DataFrame(df_5min)\n",
        "\n",
        "    #identification of station\n",
        "    df_5min['CODE'] = filelist[ff][-11:-4] \n",
        "\n",
        "    #Solar Zenith Angle\n",
        "    lon, lat = 37.52475464417339, 126.9828873413339\n",
        "    sza = np.zeros((len(df_5min)))\n",
        "    for tt in range(len(df_5min)):\n",
        "        time = df_5min.index[tt]\n",
        "        y, m, d, h, mm = time.year, time.month, time.day, time.hour, time.minute\n",
        "        kst = datetime.timezone(datetime.timedelta(hours=9))\n",
        "        obstime = datetime.datetime(y,m,d,h,mm,tzinfo =kst)\n",
        "        angle = 90 - get_altitude_fast(lat, lon, obstime)\n",
        "        sza[tt] = angle\n",
        "    df_5min['sza'] = sza\n",
        "    alldf = pd.concat([alldf,df_5min])\n",
        "    alldf['time'] = alldf.index\n",
        "\n",
        "hour = []\n",
        "for hh in range(len(alldf)):\n",
        "    hour.append(alldf['time'][hh].strftime('%Y-%m-%d %H'))\n",
        "alldf['hr'] = np.array(hour)"
      ],
      "id": "3a8f6ec7",
      "execution_count": null,
      "outputs": []
    },
    {
      "cell_type": "code",
      "metadata": {
        "scrolled": true,
        "id": "966f4776",
        "outputId": "fe55a23a-9175-4ee9-946c-8f42d35edfaf"
      },
      "source": [
        "alldf['time'][0].strftime('%Y-%m-%d %H')"
      ],
      "id": "966f4776",
      "execution_count": null,
      "outputs": [
        {
          "data": {
            "text/plain": [
              "'2021-06-02 15'"
            ]
          },
          "execution_count": 13,
          "metadata": {},
          "output_type": "execute_result"
        }
      ]
    },
    {
      "cell_type": "code",
      "metadata": {
        "id": "24942cf0"
      },
      "source": [
        "#temperatur & humidity\n",
        "meteo = pd.read_csv(dirpath+'aws/OBS_AWS_TIM_RADAR_2020JUNE.csv',engine='python',encoding='CP949' )\n",
        "meteo.columns = ['NO','sta','time','temp','wd','ws','prcp','pres','seapres','hum']\n",
        "meteo = meteo[['time','temp','prcp','hum']]\n",
        "\n",
        "dt = pd.to_datetime(meteo['time'].values)\n",
        "meteo['time'] = dt\n",
        "meteo = meteo.set_index(dt)\n",
        "\n",
        "hour = []\n",
        "for hh in range(len(meteo)):\n",
        "    hour.append(meteo['time'][hh].strftime('%Y-%m-%d %H'))\n",
        "meteo['hr'] = np.array(hour)\n",
        "\n",
        "#merge\n",
        "alldf_mt = pd.merge(alldf, meteo, left_on='hr',right_on='hr')"
      ],
      "id": "24942cf0",
      "execution_count": null,
      "outputs": []
    },
    {
      "cell_type": "code",
      "metadata": {
        "scrolled": true,
        "id": "945744c1"
      },
      "source": [
        "final = alldf_mt[['time_x','CODE','light','temp','prcp','hum','sza']]"
      ],
      "id": "945744c1",
      "execution_count": null,
      "outputs": []
    },
    {
      "cell_type": "code",
      "metadata": {
        "scrolled": true,
        "id": "c3434482"
      },
      "source": [
        "final.to_csv('./light_meteo_wo_edit.csv', header=True, index=False)"
      ],
      "id": "c3434482",
      "execution_count": null,
      "outputs": []
    },
    {
      "cell_type": "code",
      "metadata": {
        "id": "9d8d865f",
        "outputId": "0f64584a-94fd-461e-f875-09c62578ab8c"
      },
      "source": [
        "final"
      ],
      "id": "9d8d865f",
      "execution_count": null,
      "outputs": [
        {
          "data": {
            "text/html": [
              "<div>\n",
              "<style scoped>\n",
              "    .dataframe tbody tr th:only-of-type {\n",
              "        vertical-align: middle;\n",
              "    }\n",
              "\n",
              "    .dataframe tbody tr th {\n",
              "        vertical-align: top;\n",
              "    }\n",
              "\n",
              "    .dataframe thead th {\n",
              "        text-align: right;\n",
              "    }\n",
              "</style>\n",
              "<table border=\"1\" class=\"dataframe\">\n",
              "  <thead>\n",
              "    <tr style=\"text-align: right;\">\n",
              "      <th></th>\n",
              "      <th>time_x</th>\n",
              "      <th>CODE</th>\n",
              "      <th>light</th>\n",
              "      <th>temp</th>\n",
              "      <th>prcp</th>\n",
              "      <th>hum</th>\n",
              "      <th>sza</th>\n",
              "    </tr>\n",
              "  </thead>\n",
              "  <tbody>\n",
              "    <tr>\n",
              "      <th>0</th>\n",
              "      <td>2021-06-07 12:15:00</td>\n",
              "      <td>9.32_82</td>\n",
              "      <td>943.000000</td>\n",
              "      <td>16.7</td>\n",
              "      <td>0.0</td>\n",
              "      <td>66.9</td>\n",
              "      <td>70.018247</td>\n",
              "    </tr>\n",
              "    <tr>\n",
              "      <th>1</th>\n",
              "      <td>2021-06-07 12:20:00</td>\n",
              "      <td>9.32_82</td>\n",
              "      <td>950.333333</td>\n",
              "      <td>16.7</td>\n",
              "      <td>0.0</td>\n",
              "      <td>66.9</td>\n",
              "      <td>70.753575</td>\n",
              "    </tr>\n",
              "    <tr>\n",
              "      <th>2</th>\n",
              "      <td>2021-06-07 12:25:00</td>\n",
              "      <td>9.32_82</td>\n",
              "      <td>951.000000</td>\n",
              "      <td>16.7</td>\n",
              "      <td>0.0</td>\n",
              "      <td>66.9</td>\n",
              "      <td>71.486218</td>\n",
              "    </tr>\n",
              "    <tr>\n",
              "      <th>3</th>\n",
              "      <td>2021-06-07 12:30:00</td>\n",
              "      <td>9.32_82</td>\n",
              "      <td>951.000000</td>\n",
              "      <td>16.7</td>\n",
              "      <td>0.0</td>\n",
              "      <td>66.9</td>\n",
              "      <td>72.215985</td>\n",
              "    </tr>\n",
              "    <tr>\n",
              "      <th>4</th>\n",
              "      <td>2021-06-07 12:35:00</td>\n",
              "      <td>9.32_82</td>\n",
              "      <td>951.000000</td>\n",
              "      <td>16.7</td>\n",
              "      <td>0.0</td>\n",
              "      <td>66.9</td>\n",
              "      <td>72.942685</td>\n",
              "    </tr>\n",
              "    <tr>\n",
              "      <th>...</th>\n",
              "      <td>...</td>\n",
              "      <td>...</td>\n",
              "      <td>...</td>\n",
              "      <td>...</td>\n",
              "      <td>...</td>\n",
              "      <td>...</td>\n",
              "      <td>...</td>\n",
              "    </tr>\n",
              "    <tr>\n",
              "      <th>440</th>\n",
              "      <td>2021-06-14 01:20:00</td>\n",
              "      <td>.28_220</td>\n",
              "      <td>200.000000</td>\n",
              "      <td>21.2</td>\n",
              "      <td>0.0</td>\n",
              "      <td>53.4</td>\n",
              "      <td>64.204513</td>\n",
              "    </tr>\n",
              "    <tr>\n",
              "      <th>441</th>\n",
              "      <td>2021-06-14 01:25:00</td>\n",
              "      <td>.28_220</td>\n",
              "      <td>200.000000</td>\n",
              "      <td>21.2</td>\n",
              "      <td>0.0</td>\n",
              "      <td>53.4</td>\n",
              "      <td>63.454814</td>\n",
              "    </tr>\n",
              "    <tr>\n",
              "      <th>442</th>\n",
              "      <td>2021-06-14 01:30:00</td>\n",
              "      <td>.28_220</td>\n",
              "      <td>200.000000</td>\n",
              "      <td>21.2</td>\n",
              "      <td>0.0</td>\n",
              "      <td>53.4</td>\n",
              "      <td>62.704234</td>\n",
              "    </tr>\n",
              "    <tr>\n",
              "      <th>443</th>\n",
              "      <td>2021-06-14 01:35:00</td>\n",
              "      <td>.28_220</td>\n",
              "      <td>200.000000</td>\n",
              "      <td>21.2</td>\n",
              "      <td>0.0</td>\n",
              "      <td>53.4</td>\n",
              "      <td>61.952985</td>\n",
              "    </tr>\n",
              "    <tr>\n",
              "      <th>444</th>\n",
              "      <td>2021-06-14 01:40:00</td>\n",
              "      <td>.28_220</td>\n",
              "      <td>200.000000</td>\n",
              "      <td>21.2</td>\n",
              "      <td>0.0</td>\n",
              "      <td>53.4</td>\n",
              "      <td>61.201285</td>\n",
              "    </tr>\n",
              "  </tbody>\n",
              "</table>\n",
              "<p>445 rows × 7 columns</p>\n",
              "</div>"
            ],
            "text/plain": [
              "                 time_x     CODE       light  temp  prcp   hum        sza\n",
              "0   2021-06-07 12:15:00  9.32_82  943.000000  16.7   0.0  66.9  70.018247\n",
              "1   2021-06-07 12:20:00  9.32_82  950.333333  16.7   0.0  66.9  70.753575\n",
              "2   2021-06-07 12:25:00  9.32_82  951.000000  16.7   0.0  66.9  71.486218\n",
              "3   2021-06-07 12:30:00  9.32_82  951.000000  16.7   0.0  66.9  72.215985\n",
              "4   2021-06-07 12:35:00  9.32_82  951.000000  16.7   0.0  66.9  72.942685\n",
              "..                  ...      ...         ...   ...   ...   ...        ...\n",
              "440 2021-06-14 01:20:00  .28_220  200.000000  21.2   0.0  53.4  64.204513\n",
              "441 2021-06-14 01:25:00  .28_220  200.000000  21.2   0.0  53.4  63.454814\n",
              "442 2021-06-14 01:30:00  .28_220  200.000000  21.2   0.0  53.4  62.704234\n",
              "443 2021-06-14 01:35:00  .28_220  200.000000  21.2   0.0  53.4  61.952985\n",
              "444 2021-06-14 01:40:00  .28_220  200.000000  21.2   0.0  53.4  61.201285\n",
              "\n",
              "[445 rows x 7 columns]"
            ]
          },
          "execution_count": 10,
          "metadata": {},
          "output_type": "execute_result"
        }
      ]
    }
  ]
}