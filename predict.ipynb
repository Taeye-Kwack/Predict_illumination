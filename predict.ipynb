{
  "nbformat": 4,
  "nbformat_minor": 0,
  "metadata": {
    "kernelspec": {
      "display_name": "Python 3",
      "language": "python",
      "name": "python3"
    },
    "language_info": {
      "codemirror_mode": {
        "name": "ipython",
        "version": 3
      },
      "file_extension": ".py",
      "mimetype": "text/x-python",
      "name": "python",
      "nbconvert_exporter": "python",
      "pygments_lexer": "ipython3",
      "version": "3.7.4"
    },
    "colab": {
      "name": "team12.ipynb",
      "provenance": [],
      "include_colab_link": true
    }
  },
  "cells": [
    {
      "cell_type": "markdown",
      "metadata": {
        "id": "view-in-github",
        "colab_type": "text"
      },
      "source": [
        "<a href=\"https://colab.research.google.com/github/Taeye-Kwack/Predict_illumination/blob/main/predict.ipynb\" target=\"_parent\"><img src=\"https://colab.research.google.com/assets/colab-badge.svg\" alt=\"Open In Colab\"/></a>"
      ]
    },
    {
      "cell_type": "markdown",
      "metadata": {
        "id": "1R83dbViTIIi"
      },
      "source": [
        "# Import library & Data"
      ]
    },
    {
      "cell_type": "code",
      "metadata": {
        "colab": {
          "base_uri": "https://localhost:8080/"
        },
        "id": "bOvfB5Y-TIIl",
        "outputId": "9c2a37e2-c340-4403-aa65-14cb1c3edeb8"
      },
      "source": [
        "import pandas as pd\n",
        "from sklearn.preprocessing import StandardScaler\n",
        "from sklearn import preprocessing\n",
        "import matplotlib.pyplot as plt\n",
        "import seaborn as sns\n",
        "import plotly.express as px\n",
        "import plotly.graph_objects as go\n",
        "import numpy as np\n",
        "from sklearn.model_selection import train_test_split\n",
        "from sklearn.linear_model import LinearRegression\n",
        "from sklearn.metrics import mean_squared_error\n",
        "from patsy import dmatrices\n",
        "import statsmodels.api as sm\n",
        "from statsmodels.stats.outliers_influence import variance_inflation_factor"
      ],
      "execution_count": null,
      "outputs": [
        {
          "output_type": "stream",
          "name": "stderr",
          "text": [
            "/usr/local/lib/python3.7/dist-packages/statsmodels/tools/_testing.py:19: FutureWarning:\n",
            "\n",
            "pandas.util.testing is deprecated. Use the functions in the public API at pandas.testing instead.\n",
            "\n"
          ]
        }
      ]
    },
    {
      "cell_type": "code",
      "metadata": {
        "id": "W05Gr8WqTIIm"
      },
      "source": [
        "fpath = '/content/drive/MyDrive/'\n",
        "df=pd.read_csv(fpath + '0_light_input_report_0618_w_rain_final.csv')"
      ],
      "execution_count": null,
      "outputs": []
    },
    {
      "cell_type": "markdown",
      "metadata": {
        "id": "xyJBzTR-TIIn"
      },
      "source": [
        "# Data preprocessing"
      ]
    },
    {
      "cell_type": "code",
      "metadata": {
        "id": "ZdJX1ImkTIIn"
      },
      "source": [
        "df.columns=['date', 'CODE', 'y', 'temp', 'prcp', 'hum', 'sza', 'distance',\n",
        "       'altitude', 'direction', 'windowsize(%)', 'blueness','gaussian_blue', 'building_shade'] # temp = temperature, hum = humidity, prcp = precipitation, sza = solar zenith angle"
      ],
      "execution_count": null,
      "outputs": []
    },
    {
      "cell_type": "code",
      "metadata": {
        "id": "YkjkwgF5TIIo"
      },
      "source": [
        "df['date']=pd.to_datetime(df['date'])"
      ],
      "execution_count": null,
      "outputs": []
    },
    {
      "cell_type": "markdown",
      "metadata": {
        "id": "btfUoGpzTIIo"
      },
      "source": [
        "## Drop columns not used"
      ]
    },
    {
      "cell_type": "code",
      "metadata": {
        "id": "uZGiOuCxTIIp"
      },
      "source": [
        "df.drop('windowsize(%)',axis=1, inplace=True) # because all windowsizes are 100%"
      ],
      "execution_count": null,
      "outputs": []
    },
    {
      "cell_type": "code",
      "metadata": {
        "id": "1Ob-DFOjTIIq"
      },
      "source": [
        "df.drop('building_shade',axis=1,inplace=True) # because there are no shade by surrounding buildings "
      ],
      "execution_count": null,
      "outputs": []
    },
    {
      "cell_type": "markdown",
      "metadata": {
        "id": "Cj4wDk2FTIIt"
      },
      "source": [
        "## Drop NA"
      ]
    },
    {
      "cell_type": "code",
      "metadata": {
        "id": "0tA7YtqXTIIt"
      },
      "source": [
        "df=df.dropna(axis=0)"
      ],
      "execution_count": null,
      "outputs": []
    },
    {
      "cell_type": "markdown",
      "metadata": {
        "id": "LrOskDZGTIIu"
      },
      "source": [
        "## Check correlation"
      ]
    },
    {
      "cell_type": "code",
      "metadata": {
        "colab": {
          "base_uri": "https://localhost:8080/",
          "height": 359
        },
        "id": "ayMGZR8LTIIu",
        "outputId": "e047b3d8-59c5-4fb5-c941-b5a7d64cd868"
      },
      "source": [
        "cor=df.corr(method='pearson')\n",
        "cor= cor.apply(lambda x: round(x ,2))\n",
        "cor"
      ],
      "execution_count": null,
      "outputs": [
        {
          "output_type": "execute_result",
          "data": {
            "text/html": [
              "<div>\n",
              "<style scoped>\n",
              "    .dataframe tbody tr th:only-of-type {\n",
              "        vertical-align: middle;\n",
              "    }\n",
              "\n",
              "    .dataframe tbody tr th {\n",
              "        vertical-align: top;\n",
              "    }\n",
              "\n",
              "    .dataframe thead th {\n",
              "        text-align: right;\n",
              "    }\n",
              "</style>\n",
              "<table border=\"1\" class=\"dataframe\">\n",
              "  <thead>\n",
              "    <tr style=\"text-align: right;\">\n",
              "      <th></th>\n",
              "      <th>y</th>\n",
              "      <th>temp</th>\n",
              "      <th>prcp</th>\n",
              "      <th>hum</th>\n",
              "      <th>sza</th>\n",
              "      <th>distance</th>\n",
              "      <th>altitude</th>\n",
              "      <th>direction</th>\n",
              "      <th>blueness</th>\n",
              "      <th>gaussian_blue</th>\n",
              "    </tr>\n",
              "  </thead>\n",
              "  <tbody>\n",
              "    <tr>\n",
              "      <th>y</th>\n",
              "      <td>1.00</td>\n",
              "      <td>0.31</td>\n",
              "      <td>-0.11</td>\n",
              "      <td>-0.28</td>\n",
              "      <td>0.02</td>\n",
              "      <td>-0.08</td>\n",
              "      <td>-0.07</td>\n",
              "      <td>0.31</td>\n",
              "      <td>-0.08</td>\n",
              "      <td>-0.14</td>\n",
              "    </tr>\n",
              "    <tr>\n",
              "      <th>temp</th>\n",
              "      <td>0.31</td>\n",
              "      <td>1.00</td>\n",
              "      <td>-0.42</td>\n",
              "      <td>-0.60</td>\n",
              "      <td>0.08</td>\n",
              "      <td>0.19</td>\n",
              "      <td>-0.04</td>\n",
              "      <td>0.40</td>\n",
              "      <td>0.05</td>\n",
              "      <td>0.09</td>\n",
              "    </tr>\n",
              "    <tr>\n",
              "      <th>prcp</th>\n",
              "      <td>-0.11</td>\n",
              "      <td>-0.42</td>\n",
              "      <td>1.00</td>\n",
              "      <td>0.67</td>\n",
              "      <td>0.06</td>\n",
              "      <td>-0.20</td>\n",
              "      <td>0.06</td>\n",
              "      <td>-0.09</td>\n",
              "      <td>0.20</td>\n",
              "      <td>0.22</td>\n",
              "    </tr>\n",
              "    <tr>\n",
              "      <th>hum</th>\n",
              "      <td>-0.28</td>\n",
              "      <td>-0.60</td>\n",
              "      <td>0.67</td>\n",
              "      <td>1.00</td>\n",
              "      <td>-0.18</td>\n",
              "      <td>-0.28</td>\n",
              "      <td>-0.00</td>\n",
              "      <td>-0.32</td>\n",
              "      <td>0.25</td>\n",
              "      <td>0.17</td>\n",
              "    </tr>\n",
              "    <tr>\n",
              "      <th>sza</th>\n",
              "      <td>0.02</td>\n",
              "      <td>0.08</td>\n",
              "      <td>0.06</td>\n",
              "      <td>-0.18</td>\n",
              "      <td>1.00</td>\n",
              "      <td>0.15</td>\n",
              "      <td>0.25</td>\n",
              "      <td>0.15</td>\n",
              "      <td>0.00</td>\n",
              "      <td>0.15</td>\n",
              "    </tr>\n",
              "    <tr>\n",
              "      <th>distance</th>\n",
              "      <td>-0.08</td>\n",
              "      <td>0.19</td>\n",
              "      <td>-0.20</td>\n",
              "      <td>-0.28</td>\n",
              "      <td>0.15</td>\n",
              "      <td>1.00</td>\n",
              "      <td>0.41</td>\n",
              "      <td>0.27</td>\n",
              "      <td>0.13</td>\n",
              "      <td>0.14</td>\n",
              "    </tr>\n",
              "    <tr>\n",
              "      <th>altitude</th>\n",
              "      <td>-0.07</td>\n",
              "      <td>-0.04</td>\n",
              "      <td>0.06</td>\n",
              "      <td>-0.00</td>\n",
              "      <td>0.25</td>\n",
              "      <td>0.41</td>\n",
              "      <td>1.00</td>\n",
              "      <td>0.11</td>\n",
              "      <td>0.04</td>\n",
              "      <td>0.01</td>\n",
              "    </tr>\n",
              "    <tr>\n",
              "      <th>direction</th>\n",
              "      <td>0.31</td>\n",
              "      <td>0.40</td>\n",
              "      <td>-0.09</td>\n",
              "      <td>-0.32</td>\n",
              "      <td>0.15</td>\n",
              "      <td>0.27</td>\n",
              "      <td>0.11</td>\n",
              "      <td>1.00</td>\n",
              "      <td>-0.27</td>\n",
              "      <td>-0.28</td>\n",
              "    </tr>\n",
              "    <tr>\n",
              "      <th>blueness</th>\n",
              "      <td>-0.08</td>\n",
              "      <td>0.05</td>\n",
              "      <td>0.20</td>\n",
              "      <td>0.25</td>\n",
              "      <td>0.00</td>\n",
              "      <td>0.13</td>\n",
              "      <td>0.04</td>\n",
              "      <td>-0.27</td>\n",
              "      <td>1.00</td>\n",
              "      <td>0.79</td>\n",
              "    </tr>\n",
              "    <tr>\n",
              "      <th>gaussian_blue</th>\n",
              "      <td>-0.14</td>\n",
              "      <td>0.09</td>\n",
              "      <td>0.22</td>\n",
              "      <td>0.17</td>\n",
              "      <td>0.15</td>\n",
              "      <td>0.14</td>\n",
              "      <td>0.01</td>\n",
              "      <td>-0.28</td>\n",
              "      <td>0.79</td>\n",
              "      <td>1.00</td>\n",
              "    </tr>\n",
              "  </tbody>\n",
              "</table>\n",
              "</div>"
            ],
            "text/plain": [
              "                  y  temp  prcp  ...  direction  blueness  gaussian_blue\n",
              "y              1.00  0.31 -0.11  ...       0.31     -0.08          -0.14\n",
              "temp           0.31  1.00 -0.42  ...       0.40      0.05           0.09\n",
              "prcp          -0.11 -0.42  1.00  ...      -0.09      0.20           0.22\n",
              "hum           -0.28 -0.60  0.67  ...      -0.32      0.25           0.17\n",
              "sza            0.02  0.08  0.06  ...       0.15      0.00           0.15\n",
              "distance      -0.08  0.19 -0.20  ...       0.27      0.13           0.14\n",
              "altitude      -0.07 -0.04  0.06  ...       0.11      0.04           0.01\n",
              "direction      0.31  0.40 -0.09  ...       1.00     -0.27          -0.28\n",
              "blueness      -0.08  0.05  0.20  ...      -0.27      1.00           0.79\n",
              "gaussian_blue -0.14  0.09  0.22  ...      -0.28      0.79           1.00\n",
              "\n",
              "[10 rows x 10 columns]"
            ]
          },
          "metadata": {},
          "execution_count": 12
        }
      ]
    },
    {
      "cell_type": "code",
      "metadata": {
        "colab": {
          "base_uri": "https://localhost:8080/",
          "height": 657
        },
        "id": "6jk8KXqIaIkJ",
        "outputId": "1a5fde80-5eb2-408e-d611-2f45c018f6d2"
      },
      "source": [
        "import seaborn as sns\n",
        "fig, ax = plt.subplots( figsize=(10,10) )\n",
        "sns.heatmap(cor, cmap = 'RdYlBu_r', annot = True)  \n",
        "plt.show()"
      ],
      "execution_count": null,
      "outputs": [
        {
          "output_type": "display_data",
          "data": {
            "image/png": "[encoded data removed]",
            "text/plain": [
              "<Figure size 720x720 with 2 Axes>"
            ]
          },
          "metadata": {
            "needs_background": "light"
          }
        }
      ]
    },
    {
      "cell_type": "code",
      "metadata": {
        "colab": {
          "base_uri": "https://localhost:8080/",
          "height": 297
        },
        "id": "diFjsp0cfwUX",
        "outputId": "9d428b45-b9a4-468e-b2e2-2e32786bfbe9"
      },
      "source": [
        "df = df.drop(['blueness'],axis=1) # we chose to use gaussian_blue instead of blueness to figure out the lightness of sky\n",
        "df = df.drop(['hum'],axis=1) # because humidity's correlation with precipitation and temperature is so hight (the absolute value > 0.5)\n",
        "\n",
        "cor=df.corr(method='pearson')\n",
        "cor= cor.apply(lambda x: round(x ,2))\n",
        "cor"
      ],
      "execution_count": null,
      "outputs": [
        {
          "output_type": "execute_result",
          "data": {
            "text/html": [
              "<div>\n",
              "<style scoped>\n",
              "    .dataframe tbody tr th:only-of-type {\n",
              "        vertical-align: middle;\n",
              "    }\n",
              "\n",
              "    .dataframe tbody tr th {\n",
              "        vertical-align: top;\n",
              "    }\n",
              "\n",
              "    .dataframe thead th {\n",
              "        text-align: right;\n",
              "    }\n",
              "</style>\n",
              "<table border=\"1\" class=\"dataframe\">\n",
              "  <thead>\n",
              "    <tr style=\"text-align: right;\">\n",
              "      <th></th>\n",
              "      <th>y</th>\n",
              "      <th>temp</th>\n",
              "      <th>prcp</th>\n",
              "      <th>sza</th>\n",
              "      <th>distance</th>\n",
              "      <th>altitude</th>\n",
              "      <th>direction</th>\n",
              "      <th>gaussian_blue</th>\n",
              "    </tr>\n",
              "  </thead>\n",
              "  <tbody>\n",
              "    <tr>\n",
              "      <th>y</th>\n",
              "      <td>1.00</td>\n",
              "      <td>0.31</td>\n",
              "      <td>-0.11</td>\n",
              "      <td>0.02</td>\n",
              "      <td>-0.08</td>\n",
              "      <td>-0.07</td>\n",
              "      <td>0.31</td>\n",
              "      <td>-0.14</td>\n",
              "    </tr>\n",
              "    <tr>\n",
              "      <th>temp</th>\n",
              "      <td>0.31</td>\n",
              "      <td>1.00</td>\n",
              "      <td>-0.42</td>\n",
              "      <td>0.08</td>\n",
              "      <td>0.19</td>\n",
              "      <td>-0.04</td>\n",
              "      <td>0.40</td>\n",
              "      <td>0.09</td>\n",
              "    </tr>\n",
              "    <tr>\n",
              "      <th>prcp</th>\n",
              "      <td>-0.11</td>\n",
              "      <td>-0.42</td>\n",
              "      <td>1.00</td>\n",
              "      <td>0.06</td>\n",
              "      <td>-0.20</td>\n",
              "      <td>0.06</td>\n",
              "      <td>-0.09</td>\n",
              "      <td>0.22</td>\n",
              "    </tr>\n",
              "    <tr>\n",
              "      <th>sza</th>\n",
              "      <td>0.02</td>\n",
              "      <td>0.08</td>\n",
              "      <td>0.06</td>\n",
              "      <td>1.00</td>\n",
              "      <td>0.15</td>\n",
              "      <td>0.25</td>\n",
              "      <td>0.15</td>\n",
              "      <td>0.15</td>\n",
              "    </tr>\n",
              "    <tr>\n",
              "      <th>distance</th>\n",
              "      <td>-0.08</td>\n",
              "      <td>0.19</td>\n",
              "      <td>-0.20</td>\n",
              "      <td>0.15</td>\n",
              "      <td>1.00</td>\n",
              "      <td>0.41</td>\n",
              "      <td>0.27</td>\n",
              "      <td>0.14</td>\n",
              "    </tr>\n",
              "    <tr>\n",
              "      <th>altitude</th>\n",
              "      <td>-0.07</td>\n",
              "      <td>-0.04</td>\n",
              "      <td>0.06</td>\n",
              "      <td>0.25</td>\n",
              "      <td>0.41</td>\n",
              "      <td>1.00</td>\n",
              "      <td>0.11</td>\n",
              "      <td>0.01</td>\n",
              "    </tr>\n",
              "    <tr>\n",
              "      <th>direction</th>\n",
              "      <td>0.31</td>\n",
              "      <td>0.40</td>\n",
              "      <td>-0.09</td>\n",
              "      <td>0.15</td>\n",
              "      <td>0.27</td>\n",
              "      <td>0.11</td>\n",
              "      <td>1.00</td>\n",
              "      <td>-0.28</td>\n",
              "    </tr>\n",
              "    <tr>\n",
              "      <th>gaussian_blue</th>\n",
              "      <td>-0.14</td>\n",
              "      <td>0.09</td>\n",
              "      <td>0.22</td>\n",
              "      <td>0.15</td>\n",
              "      <td>0.14</td>\n",
              "      <td>0.01</td>\n",
              "      <td>-0.28</td>\n",
              "      <td>1.00</td>\n",
              "    </tr>\n",
              "  </tbody>\n",
              "</table>\n",
              "</div>"
            ],
            "text/plain": [
              "                  y  temp  prcp  ...  altitude  direction  gaussian_blue\n",
              "y              1.00  0.31 -0.11  ...     -0.07       0.31          -0.14\n",
              "temp           0.31  1.00 -0.42  ...     -0.04       0.40           0.09\n",
              "prcp          -0.11 -0.42  1.00  ...      0.06      -0.09           0.22\n",
              "sza            0.02  0.08  0.06  ...      0.25       0.15           0.15\n",
              "distance      -0.08  0.19 -0.20  ...      0.41       0.27           0.14\n",
              "altitude      -0.07 -0.04  0.06  ...      1.00       0.11           0.01\n",
              "direction      0.31  0.40 -0.09  ...      0.11       1.00          -0.28\n",
              "gaussian_blue -0.14  0.09  0.22  ...      0.01      -0.28           1.00\n",
              "\n",
              "[8 rows x 8 columns]"
            ]
          },
          "metadata": {},
          "execution_count": 11
        }
      ]
    },
    {
      "cell_type": "code",
      "metadata": {
        "colab": {
          "base_uri": "https://localhost:8080/",
          "height": 463
        },
        "id": "4guZzsfObHWt",
        "outputId": "28eb7920-ee59-4dfb-d63b-a1b70414dbe2"
      },
      "source": [
        "columns = ['temp', 'prcp', 'sza', 'distance', 'altitude', 'direction', 'gaussian_blue']\n",
        "fig, ax = plt.subplots(figsize=(12,7))\n",
        "plt.bar(columns, cor.loc['y',columns])\n",
        "plt.title('Correlation with natural light')"
      ],
      "execution_count": null,
      "outputs": [
        {
          "output_type": "execute_result",
          "data": {
            "text/plain": [
              "Text(0.5, 1.0, 'Correlation with natural light')"
            ]
          },
          "metadata": {},
          "execution_count": 12
        },
        {
          "output_type": "display_data",
          "data": {
            "image/png": "[encoded data removed]",
            "text/plain": [
              "<Figure size 864x504 with 1 Axes>"
            ]
          },
          "metadata": {
            "needs_background": "light"
          }
        }
      ]
    },
    {
      "cell_type": "markdown",
      "metadata": {
        "id": "KUuKWVpxTIIv"
      },
      "source": [
        "## Analysis without time series"
      ]
    },
    {
      "cell_type": "code",
      "metadata": {
        "id": "gwWSQbZzTIIw"
      },
      "source": [
        "df['y'] =  preprocessing.scale(df['y']) \n",
        "df['temp'] = preprocessing.scale(df['temp'])\n",
        "df['prcp'] = preprocessing.scale(df['prcp'])\n",
        "df['sza'] = preprocessing.scale(df['sza'])\n",
        "df['distance'] = preprocessing.scale(df['distance']) \n",
        "df['altitude'] = preprocessing.scale(df['altitude'])\n",
        "df['direction'] = preprocessing.scale(df['direction'])\n",
        "df['gaussian_blue'] = preprocessing.scale(df['gaussian_blue']) "
      ],
      "execution_count": null,
      "outputs": []
    },
    {
      "cell_type": "code",
      "metadata": {
        "id": "lSh5eh9XQbQ0"
      },
      "source": [
        "train, test = train_test_split(df, test_size=0.3, shuffle=True, random_state=2021)\n",
        "train_x = train[['temp', 'prcp', 'sza', 'distance', 'altitude', 'direction', 'gaussian_blue']]\n",
        "train_y = train['y']\n",
        "\n",
        "test_x = test[['temp', 'prcp', 'sza', 'distance', 'altitude', 'direction', 'gaussian_blue']]\n",
        "test_y = test['y']"
      ],
      "execution_count": null,
      "outputs": []
    },
    {
      "cell_type": "code",
      "metadata": {
        "colab": {
          "base_uri": "https://localhost:8080/",
          "height": 299
        },
        "id": "uue1zNvfRgVB",
        "outputId": "eb023634-c0c2-4a1b-cda8-944d8e5aa0c2"
      },
      "source": [
        "plt.hist(train_y, label='y_train')\n",
        "plt.hist(test_y, label='y_test')\n",
        "plt.legend()\n",
        "plt.title('Distribution of y')"
      ],
      "execution_count": null,
      "outputs": [
        {
          "output_type": "execute_result",
          "data": {
            "text/plain": [
              "Text(0.5, 1.0, 'Distribution of y')"
            ]
          },
          "metadata": {},
          "execution_count": 15
        },
        {
          "output_type": "display_data",
          "data": {
            "image/png": "[encoded data removed]",
            "text/plain": [
              "<Figure size 432x288 with 1 Axes>"
            ]
          },
          "metadata": {
            "needs_background": "light"
          }
        }
      ]
    },
    {
      "cell_type": "markdown",
      "metadata": {
        "id": "0uuYBs78TIIw"
      },
      "source": [
        "## Linear Regression"
      ]
    },
    {
      "cell_type": "code",
      "metadata": {
        "id": "hOE4OsLyTIIw",
        "colab": {
          "base_uri": "https://localhost:8080/",
          "height": 442
        },
        "outputId": "6c1f96c3-b22b-4980-e642-17858e2b1922"
      },
      "source": [
        "model = LinearRegression()\n",
        "model.fit(train_x, train_y)\n",
        "y_predicted = model.predict(test_x)\n",
        "rmse = np.sqrt(mean_squared_error(y_predicted, test_y))\n",
        "print('RMSE :', rmse)\n",
        "r_sq = model.score(test_x,test_y)\n",
        "print('r_sq :', r_sq)\n",
        "plt.figure(figsize=(6,6))\n",
        "plt.scatter(test_y, y_predicted)\n",
        "plt.xlabel('y_test')\n",
        "plt.ylabel('y_predicted')"
      ],
      "execution_count": null,
      "outputs": [
        {
          "output_type": "stream",
          "name": "stdout",
          "text": [
            "RMSE : 0.9160645979779263\n",
            "r_sq : 0.18075793730469858\n"
          ]
        },
        {
          "output_type": "execute_result",
          "data": {
            "text/plain": [
              "Text(0, 0.5, 'y_predicted')"
            ]
          },
          "metadata": {},
          "execution_count": 16
        },
        {
          "output_type": "display_data",
          "data": {
            "image/png": "[encoded data removed]",
            "text/plain": [
              "<Figure size 432x432 with 1 Axes>"
            ]
          },
          "metadata": {
            "needs_background": "light"
          }
        }
      ]
    },
    {
      "cell_type": "code",
      "metadata": {
        "id": "fOASBWnqTIIx",
        "colab": {
          "base_uri": "https://localhost:8080/"
        },
        "outputId": "d5ab073e-e0bd-4b1f-a207-e611399039e9"
      },
      "source": [
        "features='temp+sza+distance+altitude+distance+direction+gaussian_blue'\n",
        "y,x=dmatrices(\"y ~\"+features,data=df,return_type='dataframe')\n",
        "result=sm.OLS(y,x).fit()\n",
        "print(result.summary()) # temp, distance, direction, gaussian_blue is statistically significant"
      ],
      "execution_count": null,
      "outputs": [
        {
          "output_type": "stream",
          "name": "stdout",
          "text": [
            "                            OLS Regression Results                            \n",
            "==============================================================================\n",
            "Dep. Variable:                      y   R-squared:                       0.176\n",
            "Model:                            OLS   Adj. R-squared:                  0.172\n",
            "Method:                 Least Squares   F-statistic:                     43.95\n",
            "Date:                Thu, 02 Sep 2021   Prob (F-statistic):           7.80e-49\n",
            "Time:                        02:44:59   Log-Likelihood:                -1636.5\n",
            "No. Observations:                1238   AIC:                             3287.\n",
            "Df Residuals:                    1231   BIC:                             3323.\n",
            "Df Model:                           6                                         \n",
            "Covariance Type:            nonrobust                                         \n",
            "=================================================================================\n",
            "                    coef    std err          t      P>|t|      [0.025      0.975]\n",
            "---------------------------------------------------------------------------------\n",
            "Intercept     -2.776e-17      0.026  -1.07e-15      1.000      -0.051       0.051\n",
            "temp              0.2555      0.029      8.742      0.000       0.198       0.313\n",
            "sza               0.0099      0.027      0.360      0.719      -0.044       0.064\n",
            "distance         -0.1782      0.030     -5.888      0.000      -0.238      -0.119\n",
            "altitude         -0.0196      0.029     -0.668      0.504      -0.077       0.038\n",
            "direction         0.2349      0.032      7.396      0.000       0.173       0.297\n",
            "gaussian_blue    -0.0663      0.029     -2.289      0.022      -0.123      -0.009\n",
            "==============================================================================\n",
            "Omnibus:                     1389.994   Durbin-Watson:                   0.228\n",
            "Prob(Omnibus):                  0.000   Jarque-Bera (JB):            90598.014\n",
            "Skew:                           5.696   Prob(JB):                         0.00\n",
            "Kurtosis:                      43.331   Cond. No.                         2.13\n",
            "==============================================================================\n",
            "\n",
            "Warnings:\n",
            "[1] Standard Errors assume that the covariance matrix of the errors is correctly specified.\n"
          ]
        }
      ]
    },
    {
      "cell_type": "markdown",
      "metadata": {
        "id": "gvUx1nMNTIIy"
      },
      "source": [
        "## DecisionTree & Randomforest "
      ]
    },
    {
      "cell_type": "code",
      "metadata": {
        "id": "-IY0IIObTIIy",
        "colab": {
          "base_uri": "https://localhost:8080/",
          "height": 442
        },
        "outputId": "794d857b-48e2-46d8-b5e9-6fa8d8502bf0"
      },
      "source": [
        "from sklearn.tree import DecisionTreeRegressor\n",
        "model_d = DecisionTreeRegressor()\n",
        "model_d.fit(train_x, train_y)\n",
        "from sklearn.metrics import mean_squared_error\n",
        "y_predicted = model_d.predict(test_x)\n",
        "rmse = np.sqrt(mean_squared_error(y_predicted, test_y))\n",
        "print('RMSE :', rmse)\n",
        "r_sq = model_d.score(test_x,test_y)\n",
        "print('r_sq :', r_sq)\n",
        "plt.figure(figsize=(6,6))\n",
        "plt.scatter(test_y, y_predicted)\n",
        "plt.xlabel('y_test')\n",
        "plt.ylabel('y_predicted')"
      ],
      "execution_count": null,
      "outputs": [
        {
          "output_type": "stream",
          "name": "stdout",
          "text": [
            "RMSE 0.36971173717107353\n",
            "r_sq : 0.8665598506867824\n"
          ]
        },
        {
          "output_type": "execute_result",
          "data": {
            "text/plain": [
              "Text(0, 0.5, 'y_predicted')"
            ]
          },
          "metadata": {},
          "execution_count": 18
        },
        {
          "output_type": "display_data",
          "data": {
            "image/png": "[encoded data removed]",
            "text/plain": [
              "<Figure size 432x432 with 1 Axes>"
            ]
          },
          "metadata": {
            "needs_background": "light"
          }
        }
      ]
    },
    {
      "cell_type": "code",
      "metadata": {
        "id": "R0p-EG_uTIIy",
        "colab": {
          "base_uri": "https://localhost:8080/",
          "height": 334
        },
        "outputId": "8f786289-b503-4e61-d7be-2bc2a71c406b"
      },
      "source": [
        "from sklearn.ensemble import RandomForestRegressor\n",
        "\n",
        "model_r = RandomForestRegressor()\n",
        "model_r.fit(train_x, train_y)\n",
        "y_predicted = model_r.predict(test_x)\n",
        "rmse = np.sqrt(mean_squared_error(y_predicted, test_y))\n",
        "print('RMSE', rmse)\n",
        "r_sq = model_r.score(test_x,test_y)\n",
        "print('r_sq :', r_sq)\n",
        "plt.scatter(test_y, y_predicted)\n",
        "plt.xlabel('y_test')\n",
        "plt.ylabel('y_predicted')"
      ],
      "execution_count": null,
      "outputs": [
        {
          "output_type": "stream",
          "name": "stdout",
          "text": [
            "RMSE 0.23789706427265364\n",
            "r_sq : 0.9447492461221059\n"
          ]
        },
        {
          "output_type": "execute_result",
          "data": {
            "text/plain": [
              "Text(0, 0.5, 'y_predicted')"
            ]
          },
          "metadata": {},
          "execution_count": 20
        },
        {
          "output_type": "display_data",
          "data": {
            "image/png": "[encoded data removed]",
            "text/plain": [
              "<Figure size 432x288 with 1 Axes>"
            ]
          },
          "metadata": {
            "needs_background": "light"
          }
        }
      ]
    },
    {
      "cell_type": "code",
      "metadata": {
        "colab": {
          "base_uri": "https://localhost:8080/",
          "height": 338
        },
        "id": "CnPhuditbndh",
        "outputId": "f20d50f4-0d65-42e5-d8fc-7451ebb32f86"
      },
      "source": [
        "columns = ['temp', 'prcp', 'sza', 'distance', 'altitude', 'direction', 'gaussian_blue']\n",
        "importances = model_r.feature_importances_\n",
        "forest_importances = pd.Series(importances, index=columns)\n",
        "forest_importances = sorted(forest_importances)\n",
        "plt.figure(figsize=(8,5))\n",
        "plt.barh(columns,forest_importances)\n",
        "# gaussian_blue >> direction, altutude >> distance, sza > prcp, temp"
      ],
      "execution_count": null,
      "outputs": [
        {
          "output_type": "execute_result",
          "data": {
            "text/plain": [
              "<BarContainer object of 7 artists>"
            ]
          },
          "metadata": {},
          "execution_count": 21
        },
        {
          "output_type": "display_data",
          "data": {
            "image/png": "[encoded data removed]",
            "text/plain": [
              "<Figure size 576x360 with 1 Axes>"
            ]
          },
          "metadata": {
            "needs_background": "light"
          }
        }
      ]
    },
    {
      "cell_type": "markdown",
      "metadata": {
        "id": "r0lEkPtwTIIz"
      },
      "source": [
        "## xgboost"
      ]
    },
    {
      "cell_type": "code",
      "metadata": {
        "id": "qUIEo-UwTIIz"
      },
      "source": [
        "from xgboost import plot_importance, plot_tree\n",
        "from xgboost import XGBClassifier\n",
        "import xgboost as xgb\n",
        "from sklearn.model_selection import GridSearchCV\n",
        "import lightgbm as lgb"
      ],
      "execution_count": null,
      "outputs": []
    },
    {
      "cell_type": "code",
      "metadata": {
        "id": "QobKbYSbTII0",
        "colab": {
          "base_uri": "https://localhost:8080/",
          "height": 460
        },
        "outputId": "56950072-b0cd-4663-f03e-8b270e82599e"
      },
      "source": [
        "XG_model = xgb.XGBRegressor(n_estimators=2000, learning_rate=0.001, random_state=2021,colsample_bytree = 0.4,gamma = 0.05, max_depth= 4, min_child_weight= 1.1,subsample=0.8)\n",
        "XG_model.fit(train_x, train_y, eval_set=[(test_x, test_y)], early_stopping_rounds=50,verbose=False)\n",
        "r_sq = XG_model.score(train_x, train_y)\n",
        "print('r_sq :', r_sq)\n",
        "y_predicted = XG_model.predict(test_x)\n",
        "rmse = np.sqrt(mean_squared_error(y_predicted, test_y))\n",
        "print('RMSE :', rmse)\n",
        "plt.figure(figsize=(6,6))\n",
        "plt.scatter(test_y, y_predicted)\n",
        "plt.xlabel('y_test')\n",
        "plt.ylabel('y_predicted')"
      ],
      "execution_count": null,
      "outputs": [
        {
          "output_type": "stream",
          "name": "stdout",
          "text": [
            "[11:40:48] WARNING: /workspace/src/objective/regression_obj.cu:152: reg:linear is now deprecated in favor of reg:squarederror.\n",
            "r_sq : 0.6596906248156764\n",
            "RMSE : 0.5498099119281722\n"
          ]
        },
        {
          "output_type": "execute_result",
          "data": {
            "text/plain": [
              "Text(0, 0.5, 'y_predicted')"
            ]
          },
          "metadata": {},
          "execution_count": 25
        },
        {
          "output_type": "display_data",
          "data": {
            "image/png": "[encoded data removed]",
            "text/plain": [
              "<Figure size 432x432 with 1 Axes>"
            ]
          },
          "metadata": {
            "needs_background": "light"
          }
        }
      ]
    },
    {
      "cell_type": "code",
      "metadata": {
        "id": "xeNDQBBjTII0",
        "colab": {
          "base_uri": "https://localhost:8080/",
          "height": 331
        },
        "outputId": "2145b452-dc62-4aef-d958-f361dd62cbb2"
      },
      "source": [
        "# Feature importance\n",
        "plt.figure(figsize=(10,6))\n",
        "plot_importance(XG_model, height=0.9)\n",
        "# Feature importance : gaussian_blue >> direction, temp, sza >> distance,altitude > prcp"
      ],
      "execution_count": null,
      "outputs": [
        {
          "output_type": "execute_result",
          "data": {
            "text/plain": [
              "<matplotlib.axes._subplots.AxesSubplot at 0x7f3393cc6c10>"
            ]
          },
          "metadata": {},
          "execution_count": 26
        },
        {
          "output_type": "display_data",
          "data": {
            "text/plain": [
              "<Figure size 720x432 with 0 Axes>"
            ]
          },
          "metadata": {}
        },
        {
          "output_type": "display_data",
          "data": {
            "image/png": "[encoded data removed]",
            "text/plain": [
              "<Figure size 432x288 with 1 Axes>"
            ]
          },
          "metadata": {
            "needs_background": "light"
          }
        }
      ]
    },
    {
      "cell_type": "code",
      "metadata": {
        "id": "mD9tYgJCTII1"
      },
      "source": [
        "params = {'min_child_weight':[i/10.0 for i in range(5,18)], 'gamma':[i/100.0 for i in range(3,6)],  'subsample':[i/10.0 for i in range(4,9)], 'colsample_bytree':[i/10.0 for i in range(4,8)], 'max_depth': [2,3,4]}\n",
        "xgb_reg = xgb.XGBRegressor(nthread=-1) \n",
        "grid = GridSearchCV(xgb_reg, params)\n",
        "grid.fit(train_x, train_y)"
      ],
      "execution_count": null,
      "outputs": []
    },
    {
      "cell_type": "code",
      "metadata": {
        "id": "QEVQ2FfFTII1",
        "colab": {
          "base_uri": "https://localhost:8080/"
        },
        "outputId": "61022fdf-2bf7-4015-bbf6-9f38746abf81"
      },
      "source": [
        "grid.best_params_"
      ],
      "execution_count": null,
      "outputs": [
        {
          "output_type": "execute_result",
          "data": {
            "text/plain": [
              "{'colsample_bytree': 0.6,\n",
              " 'gamma': 0.04,\n",
              " 'max_depth': 4,\n",
              " 'min_child_weight': 1.1,\n",
              " 'subsample': 0.4}"
            ]
          },
          "metadata": {},
          "execution_count": 93
        }
      ]
    },
    {
      "cell_type": "code",
      "metadata": {
        "colab": {
          "base_uri": "https://localhost:8080/",
          "height": 460
        },
        "id": "d4wH-GeFdIJ5",
        "outputId": "e8d2462f-2d25-4131-951a-79b42ed46add"
      },
      "source": [
        "XG_model = xgb.XGBRegressor(n_estimators=2000, learning_rate=0.001, random_state=2021,colsample_bytree = 0.4,gamma = 0.04, max_depth= 4, min_child_weight= 1.1,subsample=0.4)\n",
        "XG_model.fit(train_x, train_y, eval_set=[(test_x, test_y)], early_stopping_rounds=50,verbose=False)\n",
        "\n",
        "r_sq = XG_model.score(test_x, test_y)\n",
        "print('r_sq :', r_sq)\n",
        "y_predicted = XG_model.predict(test_x)\n",
        "rmse = np.sqrt(mean_squared_error(y_predicted, test_y))\n",
        "print('RMSE :', rmse)\n",
        "plt.figure(figsize=(6,6))\n",
        "plt.scatter(test_y, y_predicted)\n",
        "plt.xlabel('y_test')\n",
        "plt.ylabel('y_predicted')"
      ],
      "execution_count": null,
      "outputs": [
        {
          "output_type": "stream",
          "name": "stdout",
          "text": [
            "[11:41:40] WARNING: /workspace/src/objective/regression_obj.cu:152: reg:linear is now deprecated in favor of reg:squarederror.\n",
            "r_sq : 0.6617179550229575\n",
            "RMSE : 0.5886531228058972\n"
          ]
        },
        {
          "output_type": "execute_result",
          "data": {
            "text/plain": [
              "Text(0, 0.5, 'y_predicted')"
            ]
          },
          "metadata": {},
          "execution_count": 27
        },
        {
          "output_type": "display_data",
          "data": {
            "image/png": "[encoded data removed]",
            "text/plain": [
              "<Figure size 432x432 with 1 Axes>"
            ]
          },
          "metadata": {
            "needs_background": "light"
          }
        }
      ]
    },
    {
      "cell_type": "code",
      "metadata": {
        "id": "c_XIgffLTII2",
        "colab": {
          "base_uri": "https://localhost:8080/",
          "height": 331
        },
        "outputId": "3c18259c-41e1-4dc6-80ac-d68e8903b5e1"
      },
      "source": [
        "# Feature importance\n",
        "plt.figure(figsize=(10,6))\n",
        "plot_importance(XG_model, height=0.9)"
      ],
      "execution_count": null,
      "outputs": [
        {
          "output_type": "execute_result",
          "data": {
            "text/plain": [
              "<matplotlib.axes._subplots.AxesSubplot at 0x7f3393bebf90>"
            ]
          },
          "metadata": {},
          "execution_count": 28
        },
        {
          "output_type": "display_data",
          "data": {
            "text/plain": [
              "<Figure size 720x432 with 0 Axes>"
            ]
          },
          "metadata": {}
        },
        {
          "output_type": "display_data",
          "data": {
            "image/png": "[encoded data removed]",
            "text/plain": [
              "<Figure size 432x288 with 1 Axes>"
            ]
          },
          "metadata": {
            "needs_background": "light"
          }
        }
      ]
    },
    {
      "cell_type": "code",
      "metadata": {
        "id": "6YV0FcSBaj6t"
      },
      "source": [
        "<Result>\n",
        "Linear Regression\n",
        "RMSE : 0.9160645979779263\n",
        "r_sq : 0.18075793730469858\n",
        "\n",
        "DecisionTree\n",
        "RMSE : 0.36915826638711025\n",
        "r_sq : 0.8669590803285145\n",
        "\n",
        "Randomforest\n",
        "RMSE : 0.23789706427265364\n",
        "r_sq : 0.9447492461221059\n",
        "-> Feature importance : gaussian_blue >> direction, altutude >> distance, sza > prcp, temp\n",
        " \n",
        "xgboost\n",
        "r_sq : 0.6596906248156764\n",
        "RMSE : 0.5498099119281722\n",
        "-> Feature importance : gaussian_blue >> direction, temp, sza >> distance,altitude > prcp"
      ],
      "execution_count": null,
      "outputs": []
    }
  ]
}